{
 "cells": [
  {
   "cell_type": "markdown",
   "metadata": {
    "id": "9lAsyeOwFnoX"
   },
   "source": [
    "# CSCE 623 Homework Assignment 4"
   ]
  },
  {
   "cell_type": "markdown",
   "metadata": {
    "id": "46d-KBtJJxN1"
   },
   "source": [
    "### Student Name:  <font color=\"red\">LASTNAME, FIRSTNAME</font>"
   ]
  },
  {
   "cell_type": "markdown",
   "metadata": {
    "id": "Yna07rL4Jz43"
   },
   "source": [
    "### Date: <font color=\"red\">May XX, 2022</font>"
   ]
  },
  {
   "cell_type": "markdown",
   "metadata": {},
   "source": [
    "### Baseball Salary Regression in multi-feature player dataset\n",
    "\n",
    "Instructions:\n",
    "* Review all provided code before starting your work - this instructor has provided hints and tips throughout the code\n",
    "* This assignment is composed of 2 parts\n",
    "    * Load, split, and explore the data\n",
    "    * Fit models and evaluate performance\n",
    "* Complete the numbered STEPS which contain (STUDENT CODE REQUIRED) and (STUDENT MARKDOWN RESPONSE REQUIRED) activities\n",
    "* Remember to restart the kernel and rerun all cells before submitting the assignment\n",
    "* Submit only the Jupyter Notebook (.ipynb) file - do not submit the datasets."
   ]
  },
  {
   "cell_type": "code",
   "execution_count": null,
   "metadata": {
    "collapsed": false,
    "jupyter": {
     "outputs_hidden": false
    }
   },
   "outputs": [],
   "source": [
    "# Note... not all of these are used...\n",
    "\n",
    "import pandas as pd\n",
    "import numpy as np\n",
    "import matplotlib.pyplot as plt\n",
    "import seaborn as sns\n",
    "\n",
    "import itertools\n",
    "import copy\n",
    "\n",
    "from math import factorial\n",
    "\n",
    "from sklearn.preprocessing import OneHotEncoder\n",
    "\n",
    "from sklearn.preprocessing import scale \n",
    "from sklearn.preprocessing import StandardScaler\n",
    "\n",
    "from sklearn.compose import ColumnTransformer\n",
    "from sklearn.compose import make_column_selector\n",
    "\n",
    "from sklearn.pipeline import Pipeline\n",
    "\n",
    "from sklearn.model_selection import cross_validate,  cross_val_score, GridSearchCV\n",
    "from sklearn.model_selection import train_test_split\n",
    "from sklearn.metrics import mean_squared_error, make_scorer\n",
    "\n",
    "\n",
    "from sklearn.linear_model import LinearRegression, Ridge, RidgeCV, Lasso, LassoCV\n",
    "from sklearn.decomposition import PCA\n",
    "from sklearn.cross_decomposition import PLSRegression\n",
    "\n",
    "from sklearn.feature_selection import SequentialFeatureSelector\n",
    "\n",
    "%matplotlib inline\n",
    "plt.style.use('seaborn-white')\n",
    "\n",
    "import warnings\n",
    "#warnings.filterwarnings('ignore')\n",
    "#warnings.filterwarnings(action='once')"
   ]
  },
  {
   "cell_type": "markdown",
   "metadata": {},
   "source": [
    "## OPTIONAL STUDENT CODING: If you need any imports, code them below"
   ]
  },
  {
   "cell_type": "code",
   "execution_count": null,
   "metadata": {},
   "outputs": [],
   "source": [
    "######### ------- EXTRA STUDENT IMPORTS ------------\n",
    "\n",
    "\n",
    "######### ------- END STUDENT IMPORTS ------------"
   ]
  },
  {
   "cell_type": "markdown",
   "metadata": {},
   "source": [
    "# Part A:  Data setup and exploration"
   ]
  },
  {
   "cell_type": "markdown",
   "metadata": {
    "tags": []
   },
   "source": [
    "This dataset contains information about various baseball players and their salaries.  \n",
    "\n",
    "### Load the 'ISLR_Hitters.csv' data using pandas (INSTRUCTOR CODE PROVIDED).  \n",
    "* set the `index_col` to 0\n",
    "* There are unknown salaries in the dataset for some players... drop any `na`s in the dataset (there will be 263 remaining rows after removing the nas)\n",
    "* Ensure the index is correctly identifying each of the 263 rows from the index 0 to 262 without gaps\n",
    "* Store the full dataset data in `df`\n",
    "* Make the name column of the player be `Player`\n"
   ]
  },
  {
   "cell_type": "code",
   "execution_count": null,
   "metadata": {
    "collapsed": false,
    "jupyter": {
     "outputs_hidden": false
    }
   },
   "outputs": [],
   "source": [
    "# df = pd.read_csv('ISLR_Hitters.csv', index_col=False).dropna()\n",
    "pre_df = pd.read_csv('ISLR_Hitters.csv').dropna().reset_index(drop=True)\n",
    "pre_df.rename(columns={ pre_df.columns[0]: \"Player\" },inplace=True)\n",
    "display(pre_df.info())\n"
   ]
  },
  {
   "cell_type": "markdown",
   "metadata": {
    "tags": []
   },
   "source": [
    "##  STEP 1: (STUDENT CODE REQUIRED) Preprocess the categorical columns in the data using one-hot-encoding \n",
    "\n",
    "Notice that `League`, `Division` and `NewLeague` are non-numerical categories (stored as `object`s ) which should be converted to one-hot-encoded features.  Each of these categorical features only contains two categories, and if we created 2 one-hot features for each, using both columns would not provide any more information than using one.  Since we want to eliminate columns which provide redundant information, we only need one of the category columns to be 'hot' and if it is not (0 instead of 1), we know that the other category for that feature must be true.   \n",
    "\n",
    "For example, we create a one-hot-encoded column `League_N` such that if the original categorical value in `League` was `N` then the one-hot-encoded column `League_N` should contain a 1, however if the categorical value in `League` was `A` then the one-hot-encoded column `League_N` should contain a 0\n",
    "\n",
    "Create a new dataframe `df` to accomplish this for each of the three categorical features.  After completing this step, the dataset `df` should be such that\n",
    "* The categorical column `League` (`A`merican or `N`ational) is represented instead with column  `League_N` which contains a 1 if `League` was `N` or a 0 if `League` was `A`\n",
    "* The categorical column  `Division` (`E`ast or `W`est) is represented instead with column `Division_W` which contains a 1 if `Division` was `W` or a 0 if `Division` was `E`\n",
    "* The categorical column   `NewLeague` (`A`merican or `N`ational) is represented instead with column `NewLeague_N` which contains a 1 if `NewLeague` was `N` or a 0 if `NewLeague` was `A` \n",
    "* `df` doesn't contain the original 3 categorical variables (`League`, `Division` and `NewLeague`)\n",
    "\n",
    "Check to make sure everytyhing worked correctly.  After this step is complete there should still be 263 rows, 21 columns, and all columns except for `Player` will contain numeric information (no letters, strings, objects)\n",
    "\n",
    "\n",
    "Hint:  see https://scikit-learn.org/stable/modules/generated/sklearn.preprocessing.OneHotEncoder.html and the function's option `drop= 'first'` "
   ]
  },
  {
   "cell_type": "code",
   "execution_count": null,
   "metadata": {},
   "outputs": [],
   "source": [
    "# STEP 1\n",
    "\n",
    "df = None #placeholder\n",
    "\n",
    "\n",
    "#----------------START STUDENT CODE -----------------------\n",
    "\n",
    "\n",
    "#----------------END STUDENT CODE -----------------------"
   ]
  },
  {
   "cell_type": "code",
   "execution_count": null,
   "metadata": {
    "tags": []
   },
   "outputs": [],
   "source": [
    "df.info()  #confirm existence of dummies and auto-generated names\n"
   ]
  },
  {
   "cell_type": "markdown",
   "metadata": {},
   "source": [
    "### Separating features and regression target labels & test/non-test split (INSTRUCTOR CODE PROVIDED)\n",
    "\n",
    "Next we will \n",
    "* Separate features and labels in the full dataset into X and y.\n",
    "* Partition the data into test and non-test sets"
   ]
  },
  {
   "cell_type": "code",
   "execution_count": null,
   "metadata": {},
   "outputs": [],
   "source": [
    "y = df.Salary\n",
    "# Drop the column with the independent variable (Salary)\n",
    "# X = df.drop(['Salary'], axis=1).astype('float64')\n",
    "X = df.drop(['Salary'], axis=1)\n",
    "\n",
    "testfraction = 0.25\n",
    "randState = 42\n",
    "\n",
    "X_nonTest, X_test, y_nonTest, y_test = train_test_split(X, y, test_size=testfraction, random_state=randState)"
   ]
  },
  {
   "cell_type": "code",
   "execution_count": null,
   "metadata": {},
   "outputs": [],
   "source": [
    "# display the names of the features\n",
    "list(X_nonTest.columns)"
   ]
  },
  {
   "cell_type": "code",
   "execution_count": null,
   "metadata": {},
   "outputs": [],
   "source": [
    "y_nonTest.info()"
   ]
  },
  {
   "cell_type": "markdown",
   "metadata": {},
   "source": [
    "### Explore the value of the response variable (salary)   (INSTRUCTOR CODE PROVIDED)"
   ]
  },
  {
   "cell_type": "code",
   "execution_count": null,
   "metadata": {},
   "outputs": [],
   "source": [
    "display(y_nonTest.info())\n",
    "display(y_nonTest.describe())\n",
    "\n",
    "y_nonTest.hist(bins=20)\n",
    "plt.show()"
   ]
  },
  {
   "cell_type": "markdown",
   "metadata": {},
   "source": [
    "Notice that the histogram of the response variable reveals very few observations containing higher salaries (above $1.0M).  This may cause problems when trying to predict in this range"
   ]
  },
  {
   "cell_type": "markdown",
   "metadata": {},
   "source": [
    "## STEP 2: Create a new response variable by taking the log of the actual dollar salary value. (STUDENT CODE REQURIED)\n",
    "\n",
    "* Store the value of the base-10-log of the actual dollar sallary $($ `y_nonTest` $\\times1000)$ in a variable called `log_y_nonTest` using `numpy`'s  `log10` function.\n",
    "* show a histogram of `log_y_nonTest`\n",
    "\n",
    "Note that we will need to do this later for the test set y too\n"
   ]
  },
  {
   "cell_type": "code",
   "execution_count": null,
   "metadata": {},
   "outputs": [],
   "source": [
    "# STEP 2\n",
    "\n",
    "log_y_nonTest = None #placeholder\n",
    "\n",
    "#----------------START STUDENT CODE -----------------------\n",
    "\n",
    "#remember to use the function from numpy... not base python\n",
    "\n",
    "\n",
    "#----------------END STUDENT CODE -----------------------\n"
   ]
  },
  {
   "cell_type": "markdown",
   "metadata": {},
   "source": [
    "## STEP 3: Explore the non-test data features & select relevant features (STUDENT CODE REQUIRED)\n",
    "\n",
    "1.  Using only the `X_nonTest` and `log_y_nonTest` data, conduct data exploration on the features\n",
    "2.  Using log salary labels, compute correlations with each possible feature\n",
    "3.  Select the top 7 features you think might work well for predicting player (log) salary.  Later you will be required to provide evidence supporting your beliefs \n",
    "2.  Store the column names of your selected features as a list in `best_features`.  \n",
    "\n",
    "Suggestions:  Use `.corr` will be helpful here"
   ]
  },
  {
   "cell_type": "code",
   "execution_count": null,
   "metadata": {},
   "outputs": [],
   "source": [
    "# STEP 3\n",
    "\n",
    "best_features = []  #placeholder\n",
    "\n",
    "# when exploring relationship between features and predictors, it might be useful to have a (re)combined set\n",
    "xy_nontest = pd.concat([X_nonTest, log_y_nonTest], axis=1)\n",
    "xy_nontest.rename(columns={\"Salary\":\"Log10_Salary\"},inplace=True)\n",
    "xy_nontest.info()\n",
    "\n",
    "#----------------START STUDENT CODE -----------------------\n",
    "\n",
    "\n",
    "#----------------END STUDENT CODE -----------------------"
   ]
  },
  {
   "cell_type": "code",
   "execution_count": null,
   "metadata": {},
   "outputs": [],
   "source": [
    "#instructor code \n",
    "print(\"STUDENT-SELECTED BEST FEATURES:\", best_features)"
   ]
  },
  {
   "cell_type": "markdown",
   "metadata": {},
   "source": [
    "## STEP 4: Evidence supporting selection of best Features  (STUDENT MARKDOWN REQUIRED)\n",
    "\n",
    "Provide descriptions of the evidence you used to make your decisions about best features\n"
   ]
  },
  {
   "attachments": {},
   "cell_type": "markdown",
   "metadata": {},
   "source": [
    "--------------------------\n",
    "\n",
    "<font color='green'>STUDENT ANSWER HERE STEP 4</font>\n",
    "\n",
    "\n",
    "<font color='green'> \n",
    "\n",
    "<font color='green'>END STUDENT ANSWER</font>    \n",
    "    \n",
    "------------------------\n"
   ]
  },
  {
   "cell_type": "markdown",
   "metadata": {
    "tags": []
   },
   "source": [
    "###  Make a `seaborn` `pairplot` of the these 7 features that you think are most useful AND the log salary. (INSTRUCTOR-PROVIDED CODE)\n",
    "\n",
    "(note that pairplots make take time to render - the more features you include the longer they take)  \n"
   ]
  },
  {
   "cell_type": "code",
   "execution_count": null,
   "metadata": {},
   "outputs": [],
   "source": [
    "# NOTE - THIS MAKE TAKE A FEW MOMENTS TO CALCULATE & DISPLAY ON YOUR COMPUTER\n",
    "\n",
    "#switch the below to True to show the pairsplot.\n",
    "if True:\n",
    "    g = sns.pairplot(data=xy_nontest, x_vars=best_features,y_vars=\"Log10_Salary\")\n",
    "    # g = sns.pairplot(data=xy_nontest, x_vars=best_features,y_vars=\"Salary\", height=1, aspect=1.0)\n",
    "    g.fig.set_size_inches(20,4)\n",
    "    \n"
   ]
  },
  {
   "attachments": {},
   "cell_type": "markdown",
   "metadata": {},
   "source": [
    "## STEP 5:  Scale all X data using nonTest data scaler  (STUDENT CODE REQUIRED)\n",
    "* Scale the data features since we dont want some features to affect the linear regressions differently just becasue they have different scales\n",
    "* Fit the `zscaler` to the non-test data and transform the non-test data into the variable called `X_nonTest_scaled`.  Remember that we should not be using test data for this!\n",
    "* then *apply* those (non-test) fitted parameters to the test data into the variable called `X_test_scaled` to preserve the scaling *without being influenced by any aspect of the test data*\n",
    "* Remember to not attempt to scale non-numerical features (like `Player`) or one-hot features liek `League_N`, `Division_W` and `NewLeague_N`\n",
    "\n",
    "Hint: when using `sklearn`'s `StandardScalar`, `.fit`, `.fit_transform`, and `.transform` will be useful here\n",
    "\n",
    "See:  https://scikit-learn.org/stable/modules/generated/sklearn.preprocessing.StandardScaler.html?highlight=standardscaler#sklearn.preprocessing.StandardScaler"
   ]
  },
  {
   "cell_type": "code",
   "execution_count": null,
   "metadata": {},
   "outputs": [],
   "source": [
    "# STEP 5\n",
    "\n",
    "X_nonTest_scaled = None #placeholder\n",
    "\n",
    "cols = list(X_nonTest.columns.values)\n",
    "exclude_scale_cols = ['Player','League_N','Division_W','NewLeague_N']\n",
    "cols_to_scale = cols.copy()\n",
    "for r in exclude_scale_cols: \n",
    "    cols_to_scale.remove(r)\n",
    "\n",
    "zscaler = StandardScaler()  #use this object to conduct the scaling in the student code block\n",
    "\n",
    "X_nonTest_scaled = None  #placeholder\n",
    "X_test_scaled = None  #placeholder\n",
    "\n",
    "\n",
    "#----------------START STUDENT CODE -----------------------\n",
    "\n",
    "\n",
    "#----------------END STUDENT CODE -----------------------"
   ]
  },
  {
   "attachments": {},
   "cell_type": "markdown",
   "metadata": {},
   "source": [
    "The following instructor eval code will report the means and standard deviations of both the nonTest data features and the testData features\n",
    "\n",
    "HINT:  What would you expect to see as the difference in the means and stdevs between these two partitions of the data if the previous step was completed properly?"
   ]
  },
  {
   "cell_type": "code",
   "execution_count": null,
   "metadata": {},
   "outputs": [],
   "source": [
    "# Instructor eval code\n",
    "print(\"-Before transformation, non-test column names:\\n\", cols)\n",
    "\n",
    "print(\"---After transformation, non-test column names:\\n\", list(X_nonTest_scaled.columns.values))\n",
    "print(\"---After transformation, test column names:\\n\", list(X_test_scaled.columns.values))\n",
    "\n",
    "\n",
    "scalingdf = pd.DataFrame({'actualNonTestMeans':zscaler.mean_ ,\n",
    "                          'actualNonTestStds':zscaler.scale_,\n",
    "                          'scaledMeansNonTest':X_nonTest_scaled[cols_to_scale].mean(axis=0),\n",
    "                          'scaledStdsNonTest':X_nonTest_scaled[cols_to_scale].std(axis=0),\n",
    "                          'scaledMeansTest':X_test_scaled[cols_to_scale].mean(axis=0),\n",
    "                          'scaledStdsTest':X_test_scaled[cols_to_scale].std(axis=0)})\n",
    "display(scalingdf)"
   ]
  },
  {
   "cell_type": "markdown",
   "metadata": {},
   "source": [
    "### Make a prediction evaluator that accounts for the log base 10 scaled salaries (INSTRUCTOR-PROVIDED CODE)\n",
    "\n",
    "Before we start fitting models there is one last thing we need to do.\n",
    "\n",
    "Although the new Y values after log-10 scaling should help our model fit, it means the models predictions will be of log-10 salary (not the salary value itself).  In order to compensate for this we will build a new helper function to compute MSE on predictions which were made in the logspace.  This MSE method will be used by our model while computing the optimization equiation in search for good models.\n",
    "\n",
    "A transform to calculate the $MSE$ in the original dataspace is shown below - and all $MSE$ values will be calculated in salary space instead of log-10 salary space."
   ]
  },
  {
   "cell_type": "code",
   "execution_count": null,
   "metadata": {},
   "outputs": [],
   "source": [
    "def transform_rmse(y_true, y_pred):\n",
    "    ydiff = np.power(10,y_true) - np.power(10,y_pred)\n",
    "    mse = np.dot(ydiff.T, ydiff)/len(ydiff)\n",
    "    rmse = np.sqrt(mse)\n",
    "    return -rmse\n",
    "\n",
    "dataspace_rmse = make_scorer(transform_rmse, greater_is_better=True)  #this scorer can be used by the model"
   ]
  },
  {
   "cell_type": "markdown",
   "metadata": {},
   "source": [
    "# Part B:  Building competing models with feature selection and regularization\n",
    "\n",
    "In this next part, we will build several 'best of type' linear regression models using feature selection & regularization techniques\n",
    "* Foward (stepwise) subset selection\n",
    "* Backwards (stepwise) subset selection\n",
    "* Ridge Regression \n",
    "* LASSO\n",
    "\n",
    "In each model type we will use k-fold crossvalidation to make the selection of the best model from the hyper-parameter settings witin the type (number of features to keep for forward and backwards subset selection, best alpha value for each regularization type - ridge regression and LASSO).  \n",
    "\n",
    "Once these four best of type models have been acquired and the crossval performances are known, we can pick the best model of these four types.\n",
    "\n",
    "Then, we will retrain a single model of that winning type using *all* the non-test data and the hyper-parameter settings of the type in preparation for the next part"
   ]
  },
  {
   "cell_type": "markdown",
   "metadata": {},
   "source": [
    "## STEP 6 (STUDENT CODE REQUIRED) Forward and reverse Subset Selection: Determining the greedy set of model features for each size linear regression model\n",
    "\n",
    "In this step, you will use `sklearn.feature_selection`'s `SequentialFeatureSelector` as a model trainer.   This trainer is a good choice becasue it can produce models usine either forward or backwards subset selection, and you can tell it to build a model containing a specific number of features.\n",
    "\n",
    "Inside a loop you will collect the models of each feasibile feature-count size to make the prediction of the `log_y_nonTest` data using all the numeric features avaialbel in the `X_nonTest_scaled` data as input for the model.  This process will involve:\n",
    "* Use LinearRegression() as set to `model` for the `estimator` in `SequentialFeatureSelector`\n",
    "* Use K-cross-fold validation where K is defined by the instructor in the `kfold_count` and is used to populate the `cv` parameter in `SequentialFeatureSelector`\n",
    "* Use the dataspace_rmse scorer (created above) to have the `scoring` parameter minimize the RMSE score in units of actual salary dollars\n",
    "* Create a separate instantiation of `SequentialFeatureSelector` to create both forward and backward models during each iteration of the loop\n",
    "* Fit both the forward and backwards instantiated `SequentialFeatureSelector` using `.fit` with using features in `X_nonTest_scaled` and labels in `log_y_nonTest`\n",
    "* Capture the resulting feature mask using `.get_support` \n",
    "* Use the feature mask to determine the dataframe column names to keep for each model\n",
    "* Because `SequentialFeatureSelector` just provides the best features (not a fit model) we still have to fit and score a model with these features\n",
    "    * Use the fit model to score the model fit on the non-test data using crossvalidation\n",
    "    * Keep track of the best fitting model as the loop iterates\n",
    "* Capture the overall best fit model of each type (fowards and backwards), and the cv score it achieved (RMSE) \n",
    "\n",
    "(Hint:  See https://scikit-learn.org/stable/modules/generated/sklearn.feature_selection.SequentialFeatureSelector.html#sklearn.feature_selection.SequentialFeatureSelector)"
   ]
  },
  {
   "cell_type": "code",
   "execution_count": null,
   "metadata": {},
   "outputs": [],
   "source": [
    "# STEP 6\n",
    "\n",
    "model = LinearRegression()\n",
    "\n",
    "kfold_count = 5\n",
    "\n",
    "#select only the numeric features to use\n",
    "numeric_features = X_nonTest_scaled.select_dtypes('number').columns\n",
    "print(len(numeric_features),\"numeric features:\", numeric_features)\n",
    "\n",
    "selected_features_forward = [] #placeholder to contain list of feature name text strings (column names)\n",
    "selected_features_backward = [] #placeholder to contain list of feature name text strings (column names)\n",
    "\n",
    "model_scores_forward = [] #placeholder to keep list of scores per fitted model (length = feature qty-1)\n",
    "model_scores_backward = [] #placeholder to keep list of scores per feature-count (length = feature qty-1)\n",
    "\n",
    "best_score_forward = np.inf #start as bad as possible, to be replaced with best score\n",
    "best_score_backward = np.inf #start as bad as possible, to be replaced with best score\n",
    "best_idx_forward = None #placeholder\n",
    "best_idx_backward = None #placeholder\n",
    "\n",
    "best_features_forward = None #placeholder to contain list of feature name text strings (column names)\n",
    "best_features_backward = None #placeholder\n",
    "\n",
    "\n",
    "for idx,num_feats in enumerate(range(1,len(numeric_features))):\n",
    "    \n",
    "    #----------------START STUDENT CODE -----------------------\n",
    "\n",
    "\n",
    "    #----------------END STUDENT CODE -----------------------\n",
    "\n",
    "    "
   ]
  },
  {
   "cell_type": "code",
   "execution_count": null,
   "metadata": {},
   "outputs": [],
   "source": [
    "# instructor diagnostics \n",
    "\n",
    "print(model_scores_forward)\n",
    "print(model_scores_backward)\n",
    "\n",
    "feature_counts = range(1,len(model_scores_forward)+1)\n",
    "\n",
    "greedyscoresdf = pd.DataFrame({'forward':model_scores_forward, \n",
    "                               'backward':model_scores_backward},index=feature_counts)\n",
    "# greedyscoresdf.columns = ('foward','backward')\n",
    "display(greedyscoresdf)\n",
    "print(\"Best greedy feature selection models:\")\n",
    "print(\"forward:\", best_idx_forward+1,\"features, RMSE $\",best_score_forward)\n",
    "print(best_features_forward)\n",
    "print(\"backward:\",best_idx_backward+1,\"features, RMSE $\",best_score_backward)\n",
    "print(best_features_backward)\n",
    "\n",
    "\n",
    "\n",
    "#plot the RMSEs of the forward/backward models\n",
    "plt.figure()\n",
    "plt.plot(feature_counts,model_scores_forward,label='forward')\n",
    "plt.plot(feature_counts,model_scores_backward,label='backward')\n",
    "plt.xticks(feature_counts)\n",
    "ax = plt.gca()\n",
    "ax.ticklabel_format(useOffset=False, style='plain')\n",
    "plt.legend()\n",
    "plt.show()"
   ]
  },
  {
   "cell_type": "markdown",
   "metadata": {},
   "source": [
    "## STEP 7 (STUDENT CODE REQUIRED) Find Best Ridge Regression Model\n",
    "\n",
    "Use RidgeCV to find the best alpha for the ridge regression of a models of  to make the prediction of the `log_y_nonTest` data using *all* the *numeric* features avaialble in the `X_nonTest_scaled` data as input for the model.  This process will involve:\n",
    "    * Use K-cross-fold validation where K is defined by the instructor in the `kfold_count` and is used to populate the `cv` parameter in `RidgeCV`\n",
    "    * Use the `dataspace_rmse` scorer (created above) to have the `scoring` parameter minimize the RMSE score in units of actual salary dollars\n",
    "    * set `store_cv_values=True` in order to save the CV scores obtained for each `alpha` evaluated during CV\n",
    "* Fit the instantiated `RidgeCV` using `.fit` with using features in `X_nonTest_scaled` and labels in `log_y_nonTest`\n",
    "\n",
    "* Use Ridge() as set to `model` for the `estimator` in `RidgeCV`\n",
    "* Capture the resulting best alpha using `.alpha_` \n",
    "* Fit a new model with this alpha to compute the RMSE score of the best `RidgeCV` model using the `dataspace_rmse` scorer\n",
    "\n",
    "See:  https://scikit-learn.org/stable/modules/generated/sklearn.linear_model.RidgeCV.html?highlight=ridgecv#sklearn.linear_model.RidgeCV\n"
   ]
  },
  {
   "cell_type": "code",
   "execution_count": null,
   "metadata": {},
   "outputs": [],
   "source": [
    "# STEP 7\n",
    "\n",
    "kfold_count = 5\n",
    "minLogAlpha = -3\n",
    "maxLogAlpha = 7\n",
    "alphaCount = 1000\n",
    "\n",
    "alphagrid = np.zeros(alphaCount)  # placeholder for the alphas\n",
    "alphagrid = np.logspace(minLogAlpha,maxLogAlpha,num=alphaCount)\n",
    "\n",
    "best_ridge_alpha = None # placeholder\n",
    "best_ridge_score = None # placeholder\n",
    "\n",
    "\n",
    "#------------- START STUDENT CODE ------------------\n",
    "\n",
    "\n",
    "#------------- END STUDENT CODE ------------------"
   ]
  },
  {
   "cell_type": "code",
   "execution_count": null,
   "metadata": {},
   "outputs": [],
   "source": [
    "#instructor diagnostics\n",
    "\n",
    "print(\"Best Ridge alpha:\", best_ridge_alpha, \"; Best ridge RMSE $\", best_ridge_score)\n"
   ]
  },
  {
   "cell_type": "markdown",
   "metadata": {},
   "source": [
    "## STEP 8 (STUDENT CODE REQUIRED) Find Best LASSO Regression Model\n",
    "\n",
    "Lasso behaves differently from Ridge Regression, and if we want to use cross validation RMSE $ as a scoring function we have to accomplish crossvalidation in a different way - by using a generalized wrapper to conduct CV.   Using a generalized wrapper in this way provides some extra functionality in conducting CV over multiple hyperparameter searches and capturing the resulting best models, parameters and performance information.  It may be a wise choice for future efforts...\n",
    "\n",
    "Use Lasso within `GridSearchCV` to find the best alpha for the Lasso regression of a models of  to make the prediction of the `log_y_nonTest` data using *all* the *numeric* features avaialble in the `X_nonTest_scaled` data as input for the model.  This process will involve:\n",
    "* Wrapping a Lasso() estimator inside of a `GridSearchCV()` object\n",
    "    * Setting the `estimator` of GridSearchCV to be `Lasso()`\n",
    "    * Establishing a param_grid dictionary for `GridSearchCV` which contains the logspace set of `alpha` parameters (`alphagrid`)\n",
    "    * Using `dataspace_rmse` as the scoring function for the `GridSearchCV`\n",
    "    * Using K-cross-fold validation where K is defined by the instructor in the `kfold_count` and is used to populate the `cv` parameter in `GridSearchCV`\n",
    "* Fit the instantiated `GridSearchCV` using `.fit` with the numeric features in `X_nonTest_scaled` and labels in `log_y_nonTest`\n",
    "* Capture the best lasso regularization alpha using `best_params.alpha_` \n",
    "* Capture the resulting best score of that model using `best_score_` \n",
    "* Capture extended details of the CV process as a dataframe using `.cv_results_`\n",
    "\n",
    "(Hint:  See https://scikit-learn.org/stable/modules/generated/sklearn.model_selection.GridSearchCV.html)"
   ]
  },
  {
   "cell_type": "code",
   "execution_count": null,
   "metadata": {},
   "outputs": [],
   "source": [
    "# STEP 8\n",
    "\n",
    "minLogAlpha = -3\n",
    "maxLogAlpha = 7\n",
    "alphaCount = 1000\n",
    "\n",
    "alphagrid = np.zeros(alphaCount)  # placeholder for the alphas\n",
    "alphagrid = np.logspace(minLogAlpha,maxLogAlpha,num=alphaCount)\n",
    "\n",
    "lcv_model = None #placeholder for GridSearchCV() wrapper of Lasso() model\n",
    "best_lasso_alpha = None  #placeholder\n",
    "best_lasso_score = None  #placeholder\n",
    "\n",
    "lasso_cv_results = pd.DataFrame() #placeholder\n",
    "\n",
    "#------------- START STUDENT CODE ------------------\n",
    "\n",
    "\n",
    "#------------- END STUDENT CODE ------------------"
   ]
  },
  {
   "cell_type": "code",
   "execution_count": null,
   "metadata": {},
   "outputs": [],
   "source": [
    "#instructor diagnostics\n",
    "\n",
    "print(\"best Lasso alpha:\",best_lasso_alpha, \"; best Lasso score:\",best_lasso_score)\n",
    "display(lasso_cv_results)\n",
    "plt.figure()\n",
    "plt.semilogx(lasso_cv_results.param_alpha,-lasso_cv_results.mean_test_score)\n",
    "plt.xlabel('alpha (logscale)')\n",
    "plt.ylabel('RMSE $')\n",
    "plt.show()"
   ]
  },
  {
   "cell_type": "markdown",
   "metadata": {},
   "source": [
    "## STEP 9 (STUDENT CODE REQUIRED)  Select the best performing model of all the models and refit on *all non-test data*\n",
    "\n",
    "1. In the code block below, re-summarize the  CV performance and hyperparameter settings of each model (via prints or displaying dataframes) \n",
    "\n",
    "2.  Then, for the best performing model, store the fitted model in `best_model`  \n",
    "    * dont forget that if your best model is foward or backwards selection, you must subset the features when you use the test data for prediction (STEP 10)\n",
    "    * refit the model to *all* the non-test (scaled) data\n"
   ]
  },
  {
   "cell_type": "code",
   "execution_count": null,
   "metadata": {},
   "outputs": [],
   "source": [
    "# STEP 9\n",
    "\n",
    "#------------- START STUDENT CODE ------------------\n",
    "\n",
    "\n",
    "#------------- END STUDENT CODE ------------------\n"
   ]
  },
  {
   "cell_type": "markdown",
   "metadata": {},
   "source": [
    "## STEP 10 (STUDENT CODE REQUIRED) Compute the RMSE performance of the best model on the test set data\n"
   ]
  },
  {
   "cell_type": "code",
   "execution_count": null,
   "metadata": {},
   "outputs": [],
   "source": [
    "# STEP 10\n",
    "\n",
    "log_y_test=np.log10(y_test*1000) #transform test data actual salaries into log form of $\n",
    "\n",
    "#------------- START STUDENT CODE ------------------\n",
    "\n",
    "\n",
    "#------------- END STUDENT CODE ------------------\n",
    "\n",
    "\n",
    "print(\"Test Set Salary RMSE in dollars:\",test_rmse)"
   ]
  },
  {
   "attachments": {},
   "cell_type": "markdown",
   "metadata": {},
   "source": [
    "## STEP 11 (STUDENT CODE REQUIRED) Make a residuals scatterplot of the predictions \n",
    "\n",
    "Make 2 plots\n",
    "* A plot which shows Acutal Salary in dollars on the horizontal axis and predicted salary in dollars on the vertical axis.  Include a diagonal line showing ideal predictions\n",
    "* A residuals plot which shows actual salary in dollars on horizontal axis, and the residual dollars (actual dollars minus predicted dollars) on the vertical axis \n",
    "\n",
    "Remember that *actual* salary ranges from under $100K to ~$2.5M... your plots should reflect this range  (not the log of it)"
   ]
  },
  {
   "cell_type": "code",
   "execution_count": null,
   "metadata": {},
   "outputs": [],
   "source": [
    "# STEP 11\n",
    "\n",
    "#------------- START STUDENT CODE ------------------\n",
    "\n",
    "\n",
    "#------------- END STUDENT CODE ------------------\n"
   ]
  },
  {
   "cell_type": "markdown",
   "metadata": {},
   "source": [
    "## STEP 12 (STUDENT MARKDOWN REQUIRED - Impact of using this model\n",
    "\n",
    "In the markdown cell below, \n",
    "* Describe the residuals behavior as a function of actual salary (Hint: see section 3.3.3 in ISLR \"Potential Problems\"\n",
    "* Describe the pros and cons of the residuals with respect to things like \n",
    "    * Overpaying or underpaying salaries of prospective players with similar attributes\n",
    "    * What kinds of salary ranges are likely to get overpaid (or underpaid)\n",
    "\n",
    "Note:  Use the coding scrap area below to compute things if you wish that will support the markdown in the cell below\n",
    "\n",
    "OPTIONAL/FUN:  Assuming this model is correct, figure out which named players are getting severly underpaid or overpaid and see if you agree with the model instead of their actual salary!\n"
   ]
  },
  {
   "cell_type": "code",
   "execution_count": null,
   "metadata": {},
   "outputs": [],
   "source": [
    "# Coding Scrap area for addtional analysis for STEP 12 - optional\n",
    "\n",
    "# --------------START SCRAP -----------------------\n",
    "\n",
    "\n",
    "\n",
    "\n",
    "# --------------END SCRAP -----------------------"
   ]
  },
  {
   "attachments": {},
   "cell_type": "markdown",
   "metadata": {},
   "source": [
    "\n",
    "<font color='green'>STUDENT ANSWER HERE FOR STEP 12</font>\n",
    "\n",
    "--------------------------\n",
    "\n",
    "<font color='green'>...words go here....\n",
    "    \n",
    "<font color='green'>\n",
    "\n",
    "--------------------------\n",
    "\n",
    "<font color='green'>END STUDENT ANSWER </font>\n",
    "\n"
   ]
  },
  {
   "attachments": {},
   "cell_type": "markdown",
   "metadata": {},
   "source": [
    "# OPTIONAL:  Build a better model and provide RMSE and residuals\n",
    "\n",
    "* Can you outperform the best model you provided above?\n",
    "* Can you get better behavior in residuals?\n",
    "\n",
    "Hint:  Maybe constraining ourselves to linear functions of the input features are limiting our performance."
   ]
  },
  {
   "cell_type": "code",
   "execution_count": null,
   "metadata": {},
   "outputs": [],
   "source": []
  }
 ],
 "metadata": {
  "kernelspec": {
   "display_name": "Python 3 (ipykernel)",
   "language": "python",
   "name": "python3"
  },
  "language_info": {
   "codemirror_mode": {
    "name": "ipython",
    "version": 3
   },
   "file_extension": ".py",
   "mimetype": "text/x-python",
   "name": "python",
   "nbconvert_exporter": "python",
   "pygments_lexer": "ipython3",
   "version": "3.9.12"
  }
 },
 "nbformat": 4,
 "nbformat_minor": 4
}
